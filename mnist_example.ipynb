{
 "cells": [
  {
   "cell_type": "markdown",
   "metadata": {},
   "source": [
    "### Convolutional Neural Networks\n",
    "\n",
    "Neural Networks are based on a collection of connected units or nodes called \"neurons\", which try to simulate, in a very simplistic manner, the way neurons interact in an animal's brain.  \n",
    "Each connection, like the synapses in a biological brain, can transmit a signal from one artificial neuron to another. An artificial neuron that receives a signal can process it and then signal additional artificial neurons connected to it.\n",
    "\n",
    "CNNs are a kind of neural network that attempts to look at images the way the humans do, extract information from them and pass it to the artificial neurons tasked with handling this information in the fully connected layers.\n",
    "\n",
    "![image.png](img/cnn.jpeg)\n",
    "\n",
    "\n",
    "Convolution filters look at the image progressively, using a sliding window. This allows it to focus on one piece of the image at a time, learning to extract the most important information from each portion of the image. \n",
    "\n",
    "![SegmentLocal](img/sliding_window.gif \"segment\")\n",
    "\n",
    "\n",
    "This is similar to how the human brain looks at images. The human is mostly very low resolution, except for a tiny patch called the **fovea**. Though we feel as if we can see an entire scene in high resolution, this is an ilussion created by our brain who stitches together several glimpses of small areas captured by the **fovea**.\n",
    "\n",
    "\n",
    "For more information on how CNNs work you can visit:\n",
    "* [Convolutional Networks for Visual Recognition](http://cs231n.github.io/convolutional-networks/)\n",
    "* [Visualizing parts of Convolutional Neural Networks](https://hackernoon.com/visualizing-parts-of-convolutional-neural-networks-using-keras-and-cats-5cc01b214e59)\n"
   ]
  },
  {
   "attachments": {},
   "cell_type": "markdown",
   "metadata": {},
   "source": [
    "### Dataset\n",
    "\n",
    "MNIST is a very simple dataset consisting of **binary images** (black and white images) of handwritten digits with a size of 28x28 pixels. The task is to create a model that tell which digit is written on each image.\n",
    "\n"
   ]
  },
  {
   "attachments": {},
   "cell_type": "markdown",
   "metadata": {},
   "source": [
    "#### Here are a few examples of each class\n",
    "\n",
    "![image.png](img/mnist.png)"
   ]
  },
  {
   "cell_type": "markdown",
   "metadata": {},
   "source": [
    "#### Today I will show you how neural networks can accomplish this task rather easily. \n",
    "#### We will implement a neural network using the python library, [PyTorch](https://pytorch.org/)"
   ]
  },
  {
   "cell_type": "code",
   "execution_count": 1,
   "metadata": {},
   "outputs": [],
   "source": [
    "# Import the necessary libraries\n",
    "import torch\n",
    "import time as t\n",
    "from torchvision import transforms\n",
    "import torchvision.datasets as dset\n",
    "import torch.nn as nn\n",
    "import matplotlib.pyplot as plt\n",
    "import numpy as np"
   ]
  },
  {
   "attachments": {},
   "cell_type": "markdown",
   "metadata": {},
   "source": [
    "Before feeding the images to our model it's always a good idea to preprocess them a bit. To do this, PyTorch provides the **data.transforms** [module](https://pytorch.org/docs/stable/torchvision/transforms.html). \n",
    "\n",
    "We will apply 1 tranformation to every image: \n",
    "\n",
    "1. Convert the image to a tensor: Image are usually represented as a 3D array with the a shape of **H x W x C**, containing RGB values ranging from 0 to 255. In this case since they are binary images they have only 2 possible values: 0 **or** 255. So what this operation will do is change the shape of each image to **C x H x W** and make the range of values between 0 and 1, or in our particular case, 0 **or** 1. This will also convert the images to tensors*. \n",
    "\n",
    "*For computer science purposes you can think of a tensor as an array that can be stored in GPU."
   ]
  },
  {
   "cell_type": "code",
   "execution_count": 2,
   "metadata": {},
   "outputs": [],
   "source": [
    "# Create transforms\n",
    "data_transforms = transforms.ToTensor()"
   ]
  },
  {
   "cell_type": "code",
   "execution_count": 3,
   "metadata": {},
   "outputs": [],
   "source": [
    "#Pytorch allows us to download some datasets directly from the web and apply every transform while at it.\n",
    "\n",
    "# Download train and validation sets\n",
    "train = dset.MNIST('data', download=True, train=True, transform=data_transforms)\n",
    "val = dset.MNIST('data', download=True, train=False, transform=data_transforms)"
   ]
  },
  {
   "cell_type": "code",
   "execution_count": 4,
   "metadata": {},
   "outputs": [],
   "source": [
    "# Optimizaiton config\n",
    "batch_size = 256 # Number of samples used to estimate the gradient (bigger=more stable training)\n",
    "epochs = 5 # Number of iterations over the whole dataset."
   ]
  },
  {
   "cell_type": "markdown",
   "metadata": {},
   "source": [
    "Once we have our data on disk we can use PyTorch [dataloaders](https://pytorch.org/docs/stable/data.html#torch.utils.data.DataLoader) to load them into memory using batches and shuffling them if needed. We can also use several workers to load the data in parallel preventing it from becoming a bottleneck"
   ]
  },
  {
   "cell_type": "code",
   "execution_count": 5,
   "metadata": {},
   "outputs": [],
   "source": [
    "# Load training and validation datasets\n",
    "\n",
    "# Shuffle the traning set to maximize the probability of every class being present in every batch\n",
    "train_loader = torch.utils.data.DataLoader(train, batch_size=batch_size, shuffle=True, num_workers=4)\n",
    "# We do not need to shuffle the validation set\n",
    "val_loader = torch.utils.data.DataLoader(val, batch_size=batch_size, shuffle=False, num_workers=4)"
   ]
  },
  {
   "cell_type": "code",
   "execution_count": 6,
   "metadata": {},
   "outputs": [],
   "source": [
    "class NeuralNet(torch.nn.Module):\n",
    "    def __init__(self, labels=10, kernel_size=5):\n",
    "        super().__init__() # Necessary for PyTorch to detect this class as trainable\n",
    "        \n",
    "        # Here define network architecture\n",
    "        self.conv1 = nn.Conv2d(1, 20, kernel_size=kernel_size)\n",
    "        self.pool1 = nn.MaxPool2d(2, 2)\n",
    "        self.nolinear1 = nn.ReLU()\n",
    "\n",
    "        self.conv2 = nn.Conv2d(20, 50, kernel_size=kernel_size)\n",
    "        self.pool2 = nn.MaxPool2d(2, 2)\n",
    "        self.nolinear2 = nn.ReLU()\n",
    "\n",
    "        self.fc1 = nn.Linear(4*4*50, 100)\n",
    "        self.nolinear3 = nn.ReLU()\n",
    "        self.fc2 = nn.Linear(100, 10)\n",
    "        \n",
    "    def forward(self, x):\n",
    "        \n",
    "        # Here define architecture behavior\n",
    "        x = self.nolinear1(self.pool1((self.conv1(x))))\n",
    "        x = self.nolinear2(self.pool2((self.conv2(x))))\n",
    "        x = x.view(x.size(0), -1)\n",
    "        x = self.nolinear3(self.fc1(x))\n",
    "       \n",
    "        return self.fc2(x)  "
   ]
  },
  {
   "cell_type": "code",
   "execution_count": 7,
   "metadata": {},
   "outputs": [],
   "source": [
    "# Instantiate network\n",
    "model = NeuralNet()"
   ]
  },
  {
   "cell_type": "markdown",
   "metadata": {},
   "source": [
    "### Loss function\n",
    "The loss function we will try to minimize is the cross entropy. Give by the equation: \n",
    "\n",
    "$$Cross Entropy=-\\sum_{x}p(x)logq(x)$$\n",
    "\n",
    "\n",
    "Where $p(x)$ is the actual distribution of the data and $q(x)$ is the distribution predicted by our model. By minimizing this function we are maximizing the similarities between the actual distribution and the one predicted by our model, thus making our model more accurate.\n",
    "\n",
    "\n",
    "Notice that the cross entropy loss takes a probability distribution as input so we must apply a softmax operation to the output of our model, before computing the loss:\n",
    "![image.png](img/cross_entropy_loss.jpg)\n",
    "\n",
    "You can find a lot more about Cross Entropy Loss here:\n",
    "\n",
    "* [Softmax-crossentropy](https://deepnotes.io/softmax-crossentropy)\n",
    "* [A gentle introduction to cross entropy loss function](https://sefiks.com/2017/12/17/a-gentle-introduction-to-cross-entropy-loss-function/)\n",
    "\n",
    "\n"
   ]
  },
  {
   "cell_type": "code",
   "execution_count": 8,
   "metadata": {},
   "outputs": [],
   "source": [
    "# Instantiate loss function\n",
    "criterion = torch.nn.CrossEntropyLoss() "
   ]
  },
  {
   "cell_type": "markdown",
   "metadata": {},
   "source": [
    "### Choosing an optimizer\n",
    "The optimizer is the one that will perform the update to the parameters in our neural network after the gradients are computed using backpropagation. For this experiment we will use the SGD (stochastic gradient descent) optimizer. \n",
    "\n",
    "The update performed by the SGD optimizer is as follows:\n",
    "\n",
    "\n",
    "$$v_t =\\gamma{v_{t-1}} - \\alpha{\\nabla\\theta{J(\\theta)}} $$ \n",
    "$$ \\theta = \\theta - v_t $$\n",
    "\n",
    "Where: \n",
    "* $V_{t}$ the update vector at iteration $t$\n",
    "* $\\theta$ are the parameters of our model .\n",
    "* $\\nabla{J(\\theta)}$ is the gradient of the loss function (which is parametrized by our model parameters). \n",
    "* $\\gamma$ is the momemtum value, which represents what portion of the previous update we add to this one. Usually takes values around 0.9.\n",
    "* $\\alpha$ is the learning rate, which represents what portion of the gradient we navigate. I'ts value usually is between 0 and 1, and can vary a lot inside that range. Notice that the higher your batch size is, the better the computated gradients are and thus you can \"trust\" them more and increase the learning rate.\n",
    "\n",
    "\n",
    "There are many optimizers that perform parameters updates which are more sophisticated than this one, but usually **SGD** or **Adam** are safe choices.\n",
    "\n",
    "\n",
    "\n",
    "For a better understanding of each optimizer I **highly** recommend you read [Sebastians Ruders's blogpost](http://ruder.io/optimizing-gradient-descent/) explaining how each optimizer works."
   ]
  },
  {
   "cell_type": "code",
   "execution_count": 9,
   "metadata": {},
   "outputs": [],
   "source": [
    "# Create optimizer for the network parameters\n",
    "optimizer = torch.optim.SGD(model.parameters(), lr=0.01, momentum=0.9) "
   ]
  },
  {
   "cell_type": "code",
   "execution_count": 10,
   "metadata": {},
   "outputs": [],
   "source": [
    "# Use GPU if available\n",
    "device = torch.device(\"cuda:0\" if torch.cuda.is_available() else \"cpu\")"
   ]
  },
  {
   "cell_type": "code",
   "execution_count": 11,
   "metadata": {},
   "outputs": [],
   "source": [
    "def train():\n",
    "    \n",
    "    model.train() # set model to training mode\n",
    "    \n",
    "    running_loss = 0\n",
    "    running_corrects = 0\n",
    "    total = 0\n",
    "\n",
    "    for data, labels in train_loader:\n",
    "        \n",
    "        optimizer.zero_grad()  # make the gradients 0\n",
    "        \n",
    "        x = data.to(device)\n",
    "        y = labels.to(device)\n",
    "        \n",
    "        output = model(x)  # forward pass\n",
    "        loss = criterion(output, y)  # calculate the loss value\n",
    "        preds = output.max(1)[1] # get the predictions for each sample\n",
    "\n",
    "\n",
    "        loss.backward() # compute the gradients\n",
    "        optimizer.step() # uptade network parameters\n",
    "\n",
    "        # statistics\n",
    "        running_loss += loss.item() * x.size(0)\n",
    "        # .item() converts type from torch to python float or int\n",
    "        running_corrects += torch.sum(preds == y).item()\n",
    "        total += float(y.size(0))\n",
    "\n",
    "    epoch_loss = running_loss / total  # mean epoch loss\n",
    "    epoch_acc = running_corrects / total  # mean epoch accuracy\n",
    "\n",
    "    return epoch_loss, epoch_acc\n"
   ]
  },
  {
   "cell_type": "code",
   "execution_count": 12,
   "metadata": {},
   "outputs": [],
   "source": [
    "def val():\n",
    "\n",
    "    model.eval()  # set model to validation mode\n",
    "\n",
    "    running_loss = 0\n",
    "    running_corrects = 0\n",
    "    total = 0\n",
    "    \n",
    "    # We are not backpropagating through the validation set, so we can save time  and memory \n",
    "    # by not computing the gradients\n",
    "    with torch.no_grad():\n",
    "        \n",
    "        for data, labels in val_loader:\n",
    "            \n",
    "            x = data.to(device)\n",
    "            y = labels.to(device)\n",
    "        \n",
    "            output = model(x)  # forward pass \n",
    "            \n",
    "            # Calculate the loss value (we do not to apply softmax to our output because Pytorch's \n",
    "            # implementation of the cross entropy loss does it for us)\n",
    "            loss = criterion(output, y) \n",
    "            preds = output.max(1)[1] # get the predictions for each sample\n",
    "            \n",
    "            # Statistics\n",
    "            running_loss += loss.item() * x.size(0)\n",
    "            # .item() converts type from torch to python float or int\n",
    "            running_corrects += torch.sum(preds==y).item()\n",
    "            total += float(y.size(0))\n",
    "    \n",
    "    epoch_loss = running_loss / total # mean epoch loss\n",
    "    epoch_acc = running_corrects / total # mean epoch accuracy\n",
    "    \n",
    "    return epoch_loss, epoch_acc"
   ]
  },
  {
   "cell_type": "code",
   "execution_count": 13,
   "metadata": {},
   "outputs": [
    {
     "name": "stdout",
     "output_type": "stream",
     "text": [
      "--------------------------------------------------------------------------\n",
      "| End of epoch:   1 | Time: 26.01s | Train loss: 0.765 | Train acc: 0.783|\n",
      "--------------------------------------------------------------------------\n",
      "| End of epoch:   1 | Time: 2.18s | Val loss: 0.183 | Val acc: 0.945|\n",
      "--------------------------------------------------------------------------\n",
      "| End of epoch:   2 | Time: 23.38s | Train loss: 0.145 | Train acc: 0.956|\n",
      "--------------------------------------------------------------------------\n",
      "| End of epoch:   2 | Time: 1.88s | Val loss: 0.093 | Val acc: 0.971|\n",
      "--------------------------------------------------------------------------\n",
      "| End of epoch:   3 | Time: 23.14s | Train loss: 0.095 | Train acc: 0.971|\n",
      "--------------------------------------------------------------------------\n",
      "| End of epoch:   3 | Time: 1.81s | Val loss: 0.072 | Val acc: 0.977|\n",
      "--------------------------------------------------------------------------\n",
      "| End of epoch:   4 | Time: 25.29s | Train loss: 0.072 | Train acc: 0.978|\n",
      "--------------------------------------------------------------------------\n",
      "| End of epoch:   4 | Time: 1.80s | Val loss: 0.057 | Val acc: 0.982|\n",
      "--------------------------------------------------------------------------\n",
      "| End of epoch:   5 | Time: 26.35s | Train loss: 0.059 | Train acc: 0.982|\n",
      "--------------------------------------------------------------------------\n",
      "| End of epoch:   5 | Time: 1.83s | Val loss: 0.047 | Val acc: 0.985|\n"
     ]
    }
   ],
   "source": [
    "losses = []\n",
    "accuracies = []\n",
    "\n",
    "for epoch in range(epochs):\n",
    "\n",
    "    start = t.time()\n",
    "    \n",
    "    train_loss, train_acc = train()\n",
    "    losses.append(train_loss)\n",
    "    accuracies.append(train_acc)\n",
    "    \n",
    "    print('-' * 74)\n",
    "    print('| End of epoch: {:3d} | Time: {:.2f}s | Train loss: {:.3f} | Train acc: {:.3f}|'\n",
    "          .format(epoch + 1, t.time() - start, train_loss, train_acc))\n",
    "\n",
    "    start = t.time()\n",
    "    \n",
    "    val_loss, val_acc = val()\n",
    "    losses.append(val_loss)\n",
    "    accuracies.append(val_acc)\n",
    "    \n",
    "    print('-' * 74)\n",
    "    print('| End of epoch: {:3d} | Time: {:.2f}s | Val loss: {:.3f} | Val acc: {:.3f}|'\n",
    "          .format(epoch + 1, t.time() - start, val_loss, val_acc))"
   ]
  },
  {
   "cell_type": "code",
   "execution_count": 14,
   "metadata": {},
   "outputs": [],
   "source": [
    "losses = np.array([losses]).reshape(epochs, -1)\n",
    "accuracies = np.array([accuracies]).reshape(epochs, -1)"
   ]
  },
  {
   "cell_type": "markdown",
   "metadata": {},
   "source": [
    "### Visualizing Loss and Accuracy"
   ]
  },
  {
   "cell_type": "code",
   "execution_count": 15,
   "metadata": {},
   "outputs": [
    {
     "data": {
      "image/png": "[encoded data removed]",
      "text/plain": [
       "<Figure size 720x720 with 2 Axes>"
      ]
     },
     "metadata": {
      "needs_background": "light"
     },
     "output_type": "display_data"
    }
   ],
   "source": [
    "fig, ax = plt.subplots(2,1,figsize=(10, 10))\n",
    "ax[0].set_title(\"Losses\")\n",
    "ax[0].plot(losses)\n",
    "ax[0].set_xlabel('Epoch')\n",
    "ax[0].set_ylabel('Loss')\n",
    "ax[0].legend(['Train Loss', 'Validation Loss'])\n",
    "\n",
    "ax[1].set_title(\"Accuracies\")\n",
    "ax[1].plot(accuracies)\n",
    "ax[1].set_xlabel('Epoch')\n",
    "ax[1].set_ylabel('Accuracy')\n",
    "ax[1].legend(['Train Accuracy', 'Validation Accuracy'])\n",
    "\n",
    "\n",
    "ax[0].set_ylabel('Loss')\n",
    "ax[1].set_ylabel('Accuracy')\n",
    "plt.tight_layout()"
   ]
  },
  {
   "cell_type": "markdown",
   "metadata": {},
   "source": [
    "As you can see both of our losses **converge** at almost the same **low** point, thus achieving a **high accuracy** score."
   ]
  },
  {
   "cell_type": "code",
   "execution_count": 16,
   "metadata": {},
   "outputs": [],
   "source": [
    "def imshow(img, ax):\n",
    "    \n",
    "    out = img.data.numpy()\n",
    "    out = out - out.min()\n",
    "    out = out / out.max()\n",
    "    out = out * 255\n",
    "    out = out.astype('uint8')\n",
    "    ax.axes.get_xaxis().set_visible(False)        \n",
    "    ax.axes.get_yaxis().set_visible(False)\n",
    "    ax.imshow(out, cmap='gray')"
   ]
  },
  {
   "cell_type": "code",
   "execution_count": 17,
   "metadata": {},
   "outputs": [],
   "source": [
    "def show_conv_map(conv_map, title, shape):\n",
    "    \n",
    "    h = shape[0]\n",
    "    w = shape[1]\n",
    "    fig, ax = plt.subplots(h, w, figsize=(10, 10))\n",
    "\n",
    "    # Show every channel's feature map\n",
    "    fig.suptitle(title, fontsize=20)\n",
    "    for i in range(conv_map.shape[0]):\n",
    "        imshow(conv_map[i], ax[i//w, i%w])\n",
    "    \n",
    "    fig.tight_layout()\n",
    "    "
   ]
  },
  {
   "cell_type": "markdown",
   "metadata": {},
   "source": [
    "### Visualizing Feature Maps"
   ]
  },
  {
   "cell_type": "code",
   "execution_count": 18,
   "metadata": {},
   "outputs": [
    {
     "data": {
      "image/png": "[encoded data removed]",
      "text/plain": [
       "<Figure size 432x288 with 1 Axes>"
      ]
     },
     "metadata": {
      "needs_background": "light"
     },
     "output_type": "display_data"
    },
    {
     "data": {
      "image/png": "[encoded data removed]",
      "text/plain": [
       "<Figure size 720x720 with 20 Axes>"
      ]
     },
     "metadata": {
      "needs_background": "light"
     },
     "output_type": "display_data"
    }
   ],
   "source": [
    "# Extract the feature map output of the convolutional layers\n",
    "conv1_map = model.conv1(val_loader.dataset[0][0].unsqueeze_(0)).squeeze_()\n",
    "\n",
    "plt.figure()\n",
    "plt.title(\"Input\", fontsize=20)\n",
    "img = val_loader.dataset[0][0].squeeze_()\n",
    "imshow(img, plt.gca())\n",
    "\n",
    "show_conv_map(conv1_map, title='First Convolutional Map', shape=(4, 5))"
   ]
  },
  {
   "cell_type": "markdown",
   "metadata": {},
   "source": [
    "**The white specs in the image are the ones that the CNN is \"looking\" at**.\n",
    "\n",
    "As you can see, some of the channels in the first convolutionn clearly are specialized in detecting edges and curves in the numbers \n",
    "\n"
   ]
  },
  {
   "cell_type": "markdown",
   "metadata": {},
   "source": [
    "### Conclusion\n",
    "\n",
    "We learned how to program a very simple CNN and saw how powerful they can be in computer vision related tasks. We gained a very brief insight into how Convolutional Neural Networks work and visualized what they \"see\" in an image, learning how is it that they learn to pay attention. \n"
   ]
  }
 ],
 "metadata": {
  "kernelspec": {
   "display_name": "Python 3",
   "language": "python",
   "name": "python3"
  },
  "language_info": {
   "codemirror_mode": {
    "name": "ipython",
    "version": 3
   },
   "file_extension": ".py",
   "mimetype": "text/x-python",
   "name": "python",
   "nbconvert_exporter": "python",
   "pygments_lexer": "ipython3",
   "version": "3.6.6"
  }
 },
 "nbformat": 4,
 "nbformat_minor": 2
}
